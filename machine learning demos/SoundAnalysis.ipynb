{
 "cells": [
  {
   "cell_type": "code",
   "execution_count": null,
   "metadata": {},
   "outputs": [],
   "source": [
    "# Script for downloading youtube sounds and displaying the waveplot and spectrogram"
   ]
  },
  {
   "cell_type": "code",
   "execution_count": null,
   "metadata": {},
   "outputs": [],
   "source": [
    "import pafy\n",
    "import time\n",
    "from playsound import playsound as ps\n",
    "\n",
    "link = input(\"Insert youtube link here: \")\n",
    "video = pafy.new(link)"
   ]
  },
  {
   "cell_type": "code",
   "execution_count": null,
   "metadata": {},
   "outputs": [],
   "source": [
    "# Simple metadata retrieval:\n",
    "# Printing the title, rating, viewcount, author,\n",
    "# video length, duration, likes, dislikes, &\n",
    "# description\n",
    "print(\"Metadata: \")\n",
    "print(video.title)\n",
    "print(video.rating)\n",
    "print(video.viewcount)\n",
    "print(video.author, video.length)\n",
    "print(video.duration, video.likes, video.dislikes, video.description)"
   ]
  },
  {
   "cell_type": "code",
   "execution_count": null,
   "metadata": {},
   "outputs": [],
   "source": [
    "# Gets all the stream types (1280, 640, etc.)\n",
    "print(\"Stream types:\")\n",
    "streams = video.audiostreams\n",
    "for s in streams:\n",
    "    print(s)"
   ]
  },
  {
   "cell_type": "code",
   "execution_count": null,
   "metadata": {},
   "outputs": [],
   "source": [
    "# Downloading audio\n",
    "audiostream = video.getbestaudio()\n",
    "# audiostream.download()"
   ]
  },
  {
   "cell_type": "code",
   "execution_count": null,
   "metadata": {},
   "outputs": [],
   "source": [
    "def replaceInvalidWinChars(string):\n",
    "    string = string.replace('\"', '#')\n",
    "    string = string.replace('?', '#')\n",
    "    string = string.replace('|', '#')\n",
    "    string = string.replace('>', '#')\n",
    "    string = string.replace('<', '#')\n",
    "    string = string.replace(':', '#')\n",
    "    string = string.replace('*', '#')\n",
    "    return string"
   ]
  },
  {
   "cell_type": "code",
   "execution_count": null,
   "metadata": {},
   "outputs": [],
   "source": [
    "from tkinter import filedialog as fd\n",
    "\n",
    "# Asking where to save it\n",
    "print(\"Select the directory...\")\n",
    "dir_name = fd.askdirectory()\n",
    "print(dir_name)\n",
    "title = replaceInvalidWinChars(video.title)\n",
    "path = dir_name + \"/\" + title + \".wav\"\n",
    "print(path)\n",
    "audiofile = audiostream.download(filepath=path)"
   ]
  },
  {
   "cell_type": "code",
   "execution_count": null,
   "metadata": {},
   "outputs": [],
   "source": [
    "#import IPython.display as ipd\n",
    "\n",
    "# Playing back the audio\n",
    "#print(\"Playing back audio...\")\n",
    "#ipd.Audio(filename=path)"
   ]
  },
  {
   "cell_type": "code",
   "execution_count": null,
   "metadata": {},
   "outputs": [],
   "source": [
    "import librosa\n",
    "import librosa.display as ld\n",
    "import matplotlib.pyplot as plt\n",
    "\n",
    "# Visualization\n",
    "print('Loading data...')\n",
    "x, sr = librosa.load(path)\n",
    "plt.figure(figsize=(14, 5))\n",
    "ld.waveplot(x, sr=sr)"
   ]
  },
  {
   "cell_type": "code",
   "execution_count": null,
   "metadata": {},
   "outputs": [],
   "source": [
    "print('Displaying data...')\n",
    "X = librosa.stft(x)\n",
    "Xdb = librosa.amplitude_to_db(abs(X))\n",
    "plt.figure(figsize=(14, 5))\n",
    "librosa.display.specshow(Xdb, sr=sr, x_axis='time', y_axis='hz')\n",
    "plt.colorbar()"
   ]
  }
 ],
 "metadata": {
  "kernelspec": {
   "display_name": "Python 3",
   "language": "python",
   "name": "python3"
  },
  "language_info": {
   "codemirror_mode": {
    "name": "ipython",
    "version": 3
   },
   "file_extension": ".py",
   "mimetype": "text/x-python",
   "name": "python",
   "nbconvert_exporter": "python",
   "pygments_lexer": "ipython3",
   "version": "3.7.3"
  }
 },
 "nbformat": 4,
 "nbformat_minor": 2
}
